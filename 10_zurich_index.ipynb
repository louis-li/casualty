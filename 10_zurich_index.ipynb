{
 "cells": [
  {
   "cell_type": "code",
   "execution_count": 2,
   "metadata": {},
   "outputs": [
    {
     "data": {
      "text/plain": [
       "True"
      ]
     },
     "execution_count": 2,
     "metadata": {},
     "output_type": "execute_result"
    }
   ],
   "source": [
    "from dotenv import load_dotenv\n",
    "import os\n",
    "load_dotenv()"
   ]
  },
  {
   "cell_type": "code",
   "execution_count": null,
   "metadata": {},
   "outputs": [
    {
     "name": "stdout",
     "output_type": "stream",
     "text": [
      "excessive-casualty-index created\n"
     ]
    }
   ],
   "source": [
    "### CREATE AZURE SEARCH INDEX [UPDATED FOR AZURE SEARCH SDK VERSION 11.6.0b5]\n",
    "\n",
    "from azure.search.documents.indexes import SearchIndexClient\n",
    "from azure.core.credentials import AzureKeyCredential\n",
    "from azure.search.documents.indexes.models import (\n",
    "    SearchField,\n",
    "    SearchFieldDataType,\n",
    "    VectorSearch,\n",
    "    HnswAlgorithmConfiguration,\n",
    "    HnswParameters,\n",
    "    VectorSearchAlgorithmMetric,\n",
    "    ExhaustiveKnnAlgorithmConfiguration,\n",
    "    ExhaustiveKnnParameters,\n",
    "    VectorSearchProfile,\n",
    "    SemanticConfiguration,\n",
    "    SemanticSearch,\n",
    "    SemanticPrioritizedFields,\n",
    "    SemanticField,\n",
    "    SearchIndex\n",
    ")\n",
    "\n",
    "# VARIABLES - AZURE SEARCH\n",
    "\n",
    "# INSTANTIATE THE AZURE SEARCH INDEX CLIENT AND DEFINE AZURE SEACH SCHEMA\n",
    "fields = [\n",
    "    SearchField(name=\"id\", type=SearchFieldDataType.String, key=True, sortable=True, filterable=True, facetable=True),\n",
    "    SearchField(name=\"fileurl\", type=SearchFieldDataType.String, filterable=True),\n",
    "    SearchField(name=\"section_id\", type=SearchFieldDataType.String, filterable=True),\n",
    "    SearchField(name=\"section_name\", type=SearchFieldDataType.String, filterable=True),\n",
    "    SearchField(name=\"section_description\", type=SearchFieldDataType.String),\n",
    "    SearchField(name=\"section_chunk_id\", type=SearchFieldDataType.Int32, filterable=True, sortable=True),\n",
    "    SearchField(name=\"content\", type=SearchFieldDataType.String),\n",
    "    SearchField(name=\"content_vector\", type=SearchFieldDataType.Collection(SearchFieldDataType.Single), searchable=True, vector_search_dimensions=1536, vector_search_profile_name=\"ec_hnsw_profile_01\"),\n",
    "]\n",
    "\n",
    "# VECTOR SEARCH CONFIGURATION\n",
    "vector_search = VectorSearch(\n",
    "    algorithms=[HnswAlgorithmConfiguration(\n",
    "        name=\"ec_hnsw_algorithm_01\",\n",
    "        parameters=HnswParameters(\n",
    "            m=4,\n",
    "            ef_construction=400,\n",
    "            ef_search=500,\n",
    "            metric=VectorSearchAlgorithmMetric.COSINE))],\n",
    "    profiles=[VectorSearchProfile(\n",
    "        name=\"ec_hnsw_profile_01\",\n",
    "        algorithm_configuration_name=\"ec_hnsw_algorithm_01\")])\n",
    "\n",
    "# SEMANTIC SEARCH CONFIGURATION\n",
    "semantic_config = SemanticConfiguration(\n",
    "    name=\"ec_semantic_config_01\",\n",
    "    prioritized_fields=SemanticPrioritizedFields(\n",
    "        title_field=SemanticField(field_name=\"section_name\"),\n",
    "        content_fields=[SemanticField(field_name=\"content\"), SemanticField(field_name=\"section_description\")]))\n",
    "semantic_search = SemanticSearch(configurations=[semantic_config])  \n",
    "\n",
    "# CREATE THE AZURE SEARCH INDEX [INJECT FIELDS, VECTOR CONFIG, SEMANTIC CONFIG]\n",
    "azure_search_index_client = SearchIndexClient(endpoint=os.environ[\"AZURE_COGNITIVE_SEARCH_ENDPOINT\"], \n",
    "            credential=AzureKeyCredential(os.environ[\"AZURE_COGNITIVE_SEARCH_KEY\"]))\n",
    "index = SearchIndex(name=os.getenv(\"INDEX_NAME\"), fields=fields, vector_search=vector_search, semantic_search=semantic_search)  \n",
    "result = azure_search_index_client.create_or_update_index(index)  \n",
    "print(f\"{result.name} created\")"
   ]
  },
  {
   "cell_type": "code",
   "execution_count": null,
   "metadata": {},
   "outputs": [],
   "source": []
  }
 ],
 "metadata": {
  "kernelspec": {
   "display_name": "base",
   "language": "python",
   "name": "python3"
  },
  "language_info": {
   "codemirror_mode": {
    "name": "ipython",
    "version": 3
   },
   "file_extension": ".py",
   "mimetype": "text/x-python",
   "name": "python",
   "nbconvert_exporter": "python",
   "pygments_lexer": "ipython3",
   "version": "3.12.3"
  }
 },
 "nbformat": 4,
 "nbformat_minor": 2
}
